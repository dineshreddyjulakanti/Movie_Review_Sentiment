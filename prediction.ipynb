{
 "cells": [
  {
   "cell_type": "code",
   "execution_count": 1,
   "id": "607f0fd5",
   "metadata": {},
   "outputs": [],
   "source": [
    "import numpy as np\n",
    "import tensorflow as tf\n",
    "from tensorflow.keras.datasets import imdb\n",
    "from tensorflow.keras.preprocessing import sequence\n",
    "from tensorflow.keras.models import  load_model\n"
   ]
  },
  {
   "cell_type": "code",
   "execution_count": 2,
   "id": "a9ad67e9",
   "metadata": {},
   "outputs": [],
   "source": [
    "word_index=imdb.get_word_index()\n",
    "reverse_word_index={value:key for key,value in word_index.items()}"
   ]
  },
  {
   "cell_type": "code",
   "execution_count": 3,
   "id": "1cc74e22",
   "metadata": {},
   "outputs": [
    {
     "name": "stderr",
     "output_type": "stream",
     "text": [
      "WARNING:absl:Compiled the loaded model, but the compiled metrics have yet to be built. `model.compile_metrics` will be empty until you train or evaluate the model.\n"
     ]
    },
    {
     "data": {
      "text/html": [
       "<pre style=\"white-space:pre;overflow-x:auto;line-height:normal;font-family:Menlo,'DejaVu Sans Mono',consolas,'Courier New',monospace\"><span style=\"font-weight: bold\">Model: \"sequential_1\"</span>\n",
       "</pre>\n"
      ],
      "text/plain": [
       "\u001b[1mModel: \"sequential_1\"\u001b[0m\n"
      ]
     },
     "metadata": {},
     "output_type": "display_data"
    },
    {
     "data": {
      "text/html": [
       "<pre style=\"white-space:pre;overflow-x:auto;line-height:normal;font-family:Menlo,'DejaVu Sans Mono',consolas,'Courier New',monospace\">┏━━━━━━━━━━━━━━━━━━━━━━━━━━━━━━━━━┳━━━━━━━━━━━━━━━━━━━━━━━━┳━━━━━━━━━━━━━━━┓\n",
       "┃<span style=\"font-weight: bold\"> Layer (type)                    </span>┃<span style=\"font-weight: bold\"> Output Shape           </span>┃<span style=\"font-weight: bold\">       Param # </span>┃\n",
       "┡━━━━━━━━━━━━━━━━━━━━━━━━━━━━━━━━━╇━━━━━━━━━━━━━━━━━━━━━━━━╇━━━━━━━━━━━━━━━┩\n",
       "│ embedding_1 (<span style=\"color: #0087ff; text-decoration-color: #0087ff\">Embedding</span>)         │ (<span style=\"color: #00af00; text-decoration-color: #00af00\">32</span>, <span style=\"color: #00af00; text-decoration-color: #00af00\">500</span>, <span style=\"color: #00af00; text-decoration-color: #00af00\">128</span>)         │     <span style=\"color: #00af00; text-decoration-color: #00af00\">1,280,000</span> │\n",
       "├─────────────────────────────────┼────────────────────────┼───────────────┤\n",
       "│ simple_rnn_1 (<span style=\"color: #0087ff; text-decoration-color: #0087ff\">SimpleRNN</span>)        │ (<span style=\"color: #00af00; text-decoration-color: #00af00\">32</span>, <span style=\"color: #00af00; text-decoration-color: #00af00\">128</span>)              │        <span style=\"color: #00af00; text-decoration-color: #00af00\">32,896</span> │\n",
       "├─────────────────────────────────┼────────────────────────┼───────────────┤\n",
       "│ dense (<span style=\"color: #0087ff; text-decoration-color: #0087ff\">Dense</span>)                   │ (<span style=\"color: #00af00; text-decoration-color: #00af00\">32</span>, <span style=\"color: #00af00; text-decoration-color: #00af00\">1</span>)                │           <span style=\"color: #00af00; text-decoration-color: #00af00\">129</span> │\n",
       "└─────────────────────────────────┴────────────────────────┴───────────────┘\n",
       "</pre>\n"
      ],
      "text/plain": [
       "┏━━━━━━━━━━━━━━━━━━━━━━━━━━━━━━━━━┳━━━━━━━━━━━━━━━━━━━━━━━━┳━━━━━━━━━━━━━━━┓\n",
       "┃\u001b[1m \u001b[0m\u001b[1mLayer (type)                   \u001b[0m\u001b[1m \u001b[0m┃\u001b[1m \u001b[0m\u001b[1mOutput Shape          \u001b[0m\u001b[1m \u001b[0m┃\u001b[1m \u001b[0m\u001b[1m      Param #\u001b[0m\u001b[1m \u001b[0m┃\n",
       "┡━━━━━━━━━━━━━━━━━━━━━━━━━━━━━━━━━╇━━━━━━━━━━━━━━━━━━━━━━━━╇━━━━━━━━━━━━━━━┩\n",
       "│ embedding_1 (\u001b[38;5;33mEmbedding\u001b[0m)         │ (\u001b[38;5;34m32\u001b[0m, \u001b[38;5;34m500\u001b[0m, \u001b[38;5;34m128\u001b[0m)         │     \u001b[38;5;34m1,280,000\u001b[0m │\n",
       "├─────────────────────────────────┼────────────────────────┼───────────────┤\n",
       "│ simple_rnn_1 (\u001b[38;5;33mSimpleRNN\u001b[0m)        │ (\u001b[38;5;34m32\u001b[0m, \u001b[38;5;34m128\u001b[0m)              │        \u001b[38;5;34m32,896\u001b[0m │\n",
       "├─────────────────────────────────┼────────────────────────┼───────────────┤\n",
       "│ dense (\u001b[38;5;33mDense\u001b[0m)                   │ (\u001b[38;5;34m32\u001b[0m, \u001b[38;5;34m1\u001b[0m)                │           \u001b[38;5;34m129\u001b[0m │\n",
       "└─────────────────────────────────┴────────────────────────┴───────────────┘\n"
      ]
     },
     "metadata": {},
     "output_type": "display_data"
    },
    {
     "data": {
      "text/html": [
       "<pre style=\"white-space:pre;overflow-x:auto;line-height:normal;font-family:Menlo,'DejaVu Sans Mono',consolas,'Courier New',monospace\"><span style=\"font-weight: bold\"> Total params: </span><span style=\"color: #00af00; text-decoration-color: #00af00\">1,313,027</span> (5.01 MB)\n",
       "</pre>\n"
      ],
      "text/plain": [
       "\u001b[1m Total params: \u001b[0m\u001b[38;5;34m1,313,027\u001b[0m (5.01 MB)\n"
      ]
     },
     "metadata": {},
     "output_type": "display_data"
    },
    {
     "data": {
      "text/html": [
       "<pre style=\"white-space:pre;overflow-x:auto;line-height:normal;font-family:Menlo,'DejaVu Sans Mono',consolas,'Courier New',monospace\"><span style=\"font-weight: bold\"> Trainable params: </span><span style=\"color: #00af00; text-decoration-color: #00af00\">1,313,025</span> (5.01 MB)\n",
       "</pre>\n"
      ],
      "text/plain": [
       "\u001b[1m Trainable params: \u001b[0m\u001b[38;5;34m1,313,025\u001b[0m (5.01 MB)\n"
      ]
     },
     "metadata": {},
     "output_type": "display_data"
    },
    {
     "data": {
      "text/html": [
       "<pre style=\"white-space:pre;overflow-x:auto;line-height:normal;font-family:Menlo,'DejaVu Sans Mono',consolas,'Courier New',monospace\"><span style=\"font-weight: bold\"> Non-trainable params: </span><span style=\"color: #00af00; text-decoration-color: #00af00\">0</span> (0.00 B)\n",
       "</pre>\n"
      ],
      "text/plain": [
       "\u001b[1m Non-trainable params: \u001b[0m\u001b[38;5;34m0\u001b[0m (0.00 B)\n"
      ]
     },
     "metadata": {},
     "output_type": "display_data"
    },
    {
     "data": {
      "text/html": [
       "<pre style=\"white-space:pre;overflow-x:auto;line-height:normal;font-family:Menlo,'DejaVu Sans Mono',consolas,'Courier New',monospace\"><span style=\"font-weight: bold\"> Optimizer params: </span><span style=\"color: #00af00; text-decoration-color: #00af00\">2</span> (12.00 B)\n",
       "</pre>\n"
      ],
      "text/plain": [
       "\u001b[1m Optimizer params: \u001b[0m\u001b[38;5;34m2\u001b[0m (12.00 B)\n"
      ]
     },
     "metadata": {},
     "output_type": "display_data"
    }
   ],
   "source": [
    "model=load_model('simple_rnn_imdb.h5')\n",
    "model.summary()"
   ]
  },
  {
   "cell_type": "code",
   "execution_count": 4,
   "id": "79bf1ea4",
   "metadata": {},
   "outputs": [
    {
     "data": {
      "text/plain": [
       "[array([[ 0.2753755 , -0.754456  ,  0.33902964, ..., -0.84896666,\n",
       "         -0.8419092 ,  0.7276647 ],\n",
       "        [ 0.01848499, -0.07363968,  0.03568433, ...,  0.00451021,\n",
       "         -0.0689884 ,  0.03439829],\n",
       "        [-0.02837651,  0.02498011,  0.07062516, ..., -0.03483206,\n",
       "         -0.03287217,  0.00482013],\n",
       "        ...,\n",
       "        [-0.04967067, -0.01363765,  0.00405141, ..., -0.07542408,\n",
       "          0.03005718,  0.03589988],\n",
       "        [ 0.02419475,  0.04829995, -0.08172095, ...,  0.00907601,\n",
       "          0.01598839, -0.04907627],\n",
       "        [-0.11053189, -0.02330655,  0.11438164, ..., -0.01257386,\n",
       "          0.11908692, -0.0143582 ]], dtype=float32),\n",
       " array([[ 0.11245693,  0.18727577, -0.12013767, ...,  0.09955225,\n",
       "         -0.11912818,  0.16728564],\n",
       "        [ 0.17510948, -0.00211919, -0.16323893, ..., -0.02016569,\n",
       "          0.16585547, -0.091552  ],\n",
       "        [-0.11154968,  0.11418917, -0.0927147 , ...,  0.03418012,\n",
       "          0.02967337, -0.1958644 ],\n",
       "        ...,\n",
       "        [ 0.0574785 , -0.0447009 , -0.19123723, ...,  0.17533906,\n",
       "          0.12433252, -0.10205991],\n",
       "        [ 0.091313  ,  0.13553119,  0.00778418, ..., -0.03766294,\n",
       "          0.09611099,  0.00751346],\n",
       "        [-0.15215963, -0.03072659,  0.04909617, ..., -0.03142484,\n",
       "          0.06488498, -0.09762532]], dtype=float32),\n",
       " array([[-0.18290482,  0.02673642, -0.05104034, ...,  0.11882476,\n",
       "          0.03885119, -0.02698446],\n",
       "        [-0.05704825, -0.04141314,  0.04453573, ...,  0.0595699 ,\n",
       "          0.00548318,  0.1477632 ],\n",
       "        [-0.05092288,  0.02433283,  0.03943351, ..., -0.07053252,\n",
       "         -0.08685528,  0.10335673],\n",
       "        ...,\n",
       "        [ 0.12274997, -0.11221149,  0.0392581 , ...,  0.07951549,\n",
       "         -0.00024348, -0.03721074],\n",
       "        [-0.08862101, -0.15969366,  0.1959785 , ..., -0.03176108,\n",
       "         -0.1045709 , -0.13416278],\n",
       "        [ 0.05339443, -0.03693504, -0.04780957, ...,  0.00503406,\n",
       "         -0.0825386 ,  0.07374839]], dtype=float32),\n",
       " array([-0.01503754, -0.02209496,  0.03712636, -0.05153796,  0.03618481,\n",
       "        -0.00748667, -0.01635885, -0.04313524, -0.02542556, -0.02532095,\n",
       "        -0.02391925, -0.02524607, -0.02285655, -0.0054214 ,  0.00022243,\n",
       "         0.01964311, -0.0629704 , -0.02444236, -0.00392407, -0.03487437,\n",
       "        -0.01301651,  0.02219471,  0.03539301,  0.01731227, -0.04323582,\n",
       "         0.00968953, -0.01887318, -0.01443192,  0.02485299, -0.02174838,\n",
       "        -0.02672436,  0.00457821, -0.04143599, -0.03207794, -0.0253079 ,\n",
       "        -0.03947144, -0.03750934, -0.02450087, -0.02988848, -0.0239408 ,\n",
       "         0.00189302, -0.01085866, -0.02861498, -0.00548863, -0.02909623,\n",
       "        -0.02708842,  0.02094327, -0.02196191,  0.04184182, -0.02569915,\n",
       "        -0.02725113, -0.03060116, -0.04148573, -0.04149018, -0.00869554,\n",
       "        -0.0256975 , -0.01563771, -0.04638009, -0.00712611, -0.02705566,\n",
       "        -0.01082662, -0.03211147, -0.01642267, -0.02973737, -0.01777287,\n",
       "         0.00899586,  0.01237836, -0.03530585, -0.00100521, -0.03189803,\n",
       "        -0.04522775, -0.04907411,  0.01241739, -0.01446627, -0.0224504 ,\n",
       "        -0.01172287, -0.02800657,  0.02741589, -0.02041134, -0.02733799,\n",
       "        -0.038984  , -0.0275365 , -0.02536798, -0.03713455, -0.04072653,\n",
       "        -0.04166974, -0.02825052, -0.0258738 , -0.01843125, -0.03908443,\n",
       "        -0.03256547, -0.04606118, -0.02455738, -0.03089825, -0.01293575,\n",
       "        -0.02794977, -0.00653515, -0.01815793, -0.03055696,  0.00792778,\n",
       "        -0.02520357, -0.04140442,  0.01443585,  0.00954149, -0.00569301,\n",
       "         0.01283977,  0.00513332, -0.02773686, -0.06485993, -0.04170318,\n",
       "        -0.04147044,  0.01752618, -0.01027701, -0.02619062, -0.03060631,\n",
       "        -0.02071927, -0.0296335 , -0.03952261, -0.07001736, -0.00316308,\n",
       "        -0.02514338, -0.02701488,  0.00745442, -0.00195279,  0.03875867,\n",
       "        -0.02939734, -0.01471879,  0.02718283], dtype=float32),\n",
       " array([[ 0.15948988],\n",
       "        [-0.06348269],\n",
       "        [ 0.14546622],\n",
       "        [ 0.05371954],\n",
       "        [-0.38655126],\n",
       "        [ 0.20380127],\n",
       "        [ 0.08853762],\n",
       "        [-0.19970101],\n",
       "        [-0.17870466],\n",
       "        [-0.40000075],\n",
       "        [-0.22018889],\n",
       "        [-0.21252084],\n",
       "        [-0.2061918 ],\n",
       "        [ 0.04416162],\n",
       "        [ 0.08371133],\n",
       "        [-0.03859774],\n",
       "        [ 0.02355295],\n",
       "        [-0.06147242],\n",
       "        [-0.18302375],\n",
       "        [ 0.15754205],\n",
       "        [ 0.20588642],\n",
       "        [-0.01852707],\n",
       "        [-0.32932603],\n",
       "        [ 0.02766292],\n",
       "        [-0.03565441],\n",
       "        [-0.08400562],\n",
       "        [ 0.14903069],\n",
       "        [ 0.14791968],\n",
       "        [ 0.4936849 ],\n",
       "        [-0.10339962],\n",
       "        [-0.2050395 ],\n",
       "        [ 0.02134623],\n",
       "        [ 0.13758454],\n",
       "        [-0.03283389],\n",
       "        [-0.00828525],\n",
       "        [ 0.13277353],\n",
       "        [ 0.0468206 ],\n",
       "        [-0.37977654],\n",
       "        [-0.0613654 ],\n",
       "        [-0.10036894],\n",
       "        [ 0.13591589],\n",
       "        [ 0.1379823 ],\n",
       "        [-0.05928734],\n",
       "        [ 0.1518789 ],\n",
       "        [-0.43373558],\n",
       "        [-0.14434339],\n",
       "        [-0.01262727],\n",
       "        [-0.44514844],\n",
       "        [-0.19486998],\n",
       "        [-0.11169013],\n",
       "        [ 0.20906708],\n",
       "        [-0.19339357],\n",
       "        [ 0.03052259],\n",
       "        [ 0.36551985],\n",
       "        [-0.00063925],\n",
       "        [-0.05038423],\n",
       "        [-0.03927771],\n",
       "        [ 0.16934836],\n",
       "        [-0.01901025],\n",
       "        [-0.09673093],\n",
       "        [ 0.19105828],\n",
       "        [ 0.01491551],\n",
       "        [ 0.11684077],\n",
       "        [-0.0857914 ],\n",
       "        [ 0.02849975],\n",
       "        [ 0.00700711],\n",
       "        [ 0.12263574],\n",
       "        [-0.02596693],\n",
       "        [ 0.16013594],\n",
       "        [-0.12823151],\n",
       "        [ 0.17631434],\n",
       "        [ 0.09290013],\n",
       "        [ 0.0234637 ],\n",
       "        [ 0.1454207 ],\n",
       "        [-0.13039155],\n",
       "        [ 0.19113143],\n",
       "        [ 0.04147927],\n",
       "        [ 0.14360519],\n",
       "        [ 0.3196592 ],\n",
       "        [-0.06949249],\n",
       "        [-0.13021414],\n",
       "        [-0.19501129],\n",
       "        [-0.16370495],\n",
       "        [-0.4035247 ],\n",
       "        [-0.21334626],\n",
       "        [ 0.06282868],\n",
       "        [-0.00765824],\n",
       "        [-0.17134315],\n",
       "        [-0.13032119],\n",
       "        [-0.05711333],\n",
       "        [ 0.18919115],\n",
       "        [-0.04743926],\n",
       "        [-0.09583189],\n",
       "        [ 0.17798653],\n",
       "        [ 0.23384713],\n",
       "        [-0.06435405],\n",
       "        [ 0.17884862],\n",
       "        [ 0.04948347],\n",
       "        [ 0.07499899],\n",
       "        [-0.09332465],\n",
       "        [-0.05738093],\n",
       "        [ 0.00232012],\n",
       "        [ 0.24780226],\n",
       "        [ 0.15944926],\n",
       "        [ 0.03927414],\n",
       "        [ 0.09410303],\n",
       "        [ 0.13999869],\n",
       "        [-0.20563409],\n",
       "        [-0.14549251],\n",
       "        [-0.03325719],\n",
       "        [ 0.13731013],\n",
       "        [-0.00049893],\n",
       "        [-0.14671363],\n",
       "        [ 0.11092518],\n",
       "        [-0.05506256],\n",
       "        [ 0.2004579 ],\n",
       "        [ 0.03417998],\n",
       "        [-0.20198487],\n",
       "        [-0.24214698],\n",
       "        [-0.17041506],\n",
       "        [ 0.46845037],\n",
       "        [-0.02178159],\n",
       "        [ 0.14699665],\n",
       "        [ 0.06820764],\n",
       "        [-0.00480416],\n",
       "        [-0.3095507 ],\n",
       "        [ 0.1587745 ],\n",
       "        [-0.10648895]], dtype=float32),\n",
       " array([-0.40467188], dtype=float32)]"
      ]
     },
     "execution_count": 4,
     "metadata": {},
     "output_type": "execute_result"
    }
   ],
   "source": [
    "model.get_weights()"
   ]
  },
  {
   "cell_type": "code",
   "execution_count": 5,
   "id": "7cf89634",
   "metadata": {},
   "outputs": [],
   "source": [
    "# helper function\n",
    "def decode_review(encoded_review):\n",
    "    return ' '.join([reverse_word_index.get(i-3,'?')for i in encoded_review])\n",
    "#  function to pre precoess the user input\n",
    "def preprocess_text(text):\n",
    "    words=text.lower().split()\n",
    "    encoded_review=[word_index.get(word,2)+3 for word in words]\n",
    "    padded_review=sequence.pad_sequences([encoded_review],maxlen=500)\n",
    "    return padded_review"
   ]
  },
  {
   "cell_type": "code",
   "execution_count": 6,
   "id": "de683540",
   "metadata": {},
   "outputs": [],
   "source": [
    "# prediction function\n",
    "def predict_sentiment(review):\n",
    "    preprocessed_input=preprocess_text(review)\n",
    "    prediction=model.predict(preprocessed_input)\n",
    "    sentiment='Positive' if prediction[0][0] > 0.5 else \"Negative\"\n",
    "    return sentiment,prediction[0][0]"
   ]
  },
  {
   "cell_type": "code",
   "execution_count": 7,
   "id": "5d4c5638",
   "metadata": {},
   "outputs": [
    {
     "name": "stdout",
     "output_type": "stream",
     "text": [
      "\u001b[1m1/1\u001b[0m \u001b[32m━━━━━━━━━━━━━━━━━━━━\u001b[0m\u001b[37m\u001b[0m \u001b[1m0s\u001b[0m 446ms/step\n",
      "Positive\n",
      "0.5765753\n"
     ]
    }
   ],
   "source": [
    "ex=\"\"\n",
    "sentiment,score=predict_sentiment(ex)\n",
    "print(sentiment)\n",
    "print(score)"
   ]
  },
  {
   "cell_type": "code",
   "execution_count": 8,
   "id": "ad86982a",
   "metadata": {},
   "outputs": [
    {
     "name": "stdout",
     "output_type": "stream",
     "text": [
      "\u001b[1m1/1\u001b[0m \u001b[32m━━━━━━━━━━━━━━━━━━━━\u001b[0m\u001b[37m\u001b[0m \u001b[1m0s\u001b[0m 182ms/step\n",
      "Positive\n",
      "0.65538913\n"
     ]
    }
   ],
   "source": [
    "ex=\"This movie is fantastic!The acting was great and the plot was thrilling.\"\n",
    "sentiment,score=predict_sentiment(ex)\n",
    "print(sentiment)\n",
    "print(score)"
   ]
  },
  {
   "cell_type": "code",
   "execution_count": null,
   "id": "b00acc2d",
   "metadata": {},
   "outputs": [],
   "source": []
  },
  {
   "cell_type": "code",
   "execution_count": null,
   "id": "eb19106e",
   "metadata": {},
   "outputs": [],
   "source": []
  },
  {
   "cell_type": "code",
   "execution_count": null,
   "id": "a7c21e42",
   "metadata": {},
   "outputs": [],
   "source": [
    "\n"
   ]
  }
 ],
 "metadata": {
  "kernelspec": {
   "display_name": "tf2.17",
   "language": "python",
   "name": "python3"
  },
  "language_info": {
   "codemirror_mode": {
    "name": "ipython",
    "version": 3
   },
   "file_extension": ".py",
   "mimetype": "text/x-python",
   "name": "python",
   "nbconvert_exporter": "python",
   "pygments_lexer": "ipython3",
   "version": "3.10.16"
  }
 },
 "nbformat": 4,
 "nbformat_minor": 5
}
